{
 "cells": [
  {
   "cell_type": "markdown",
   "id": "0f8de196-b2c7-4671-b673-76fc0e8cd7a2",
   "metadata": {},
   "source": [
    "<center> \n",
    "    \n",
    "# Lab Exercises: Introduction to Probability Distribution\n",
    "</center>"
   ]
  },
  {
   "cell_type": "code",
   "execution_count": 25,
   "id": "2257545b-617a-4af9-89a9-5b5b274eb648",
   "metadata": {},
   "outputs": [],
   "source": [
    "# import important libraries:\n",
    "\n",
    "import numpy as np\n",
    "import pandas as pd\n",
    "import matplotlib.pyplot as pyplot\n",
    "import scipy.stats\n",
    "from math import sqrt"
   ]
  },
  {
   "cell_type": "markdown",
   "id": "e27dc657-85ec-4f2b-8127-48d60eb6f1ae",
   "metadata": {},
   "source": [
    "## Fetching Data from IBM Cloud Storage\n"
   ]
  },
  {
   "cell_type": "code",
   "execution_count": 21,
   "id": "0b5ee19b-a36d-4c5d-a4c5-76de2bdddf76",
   "metadata": {},
   "outputs": [
    {
     "data": {
      "text/html": [
       "<div>\n",
       "<style scoped>\n",
       "    .dataframe tbody tr th:only-of-type {\n",
       "        vertical-align: middle;\n",
       "    }\n",
       "\n",
       "    .dataframe tbody tr th {\n",
       "        vertical-align: top;\n",
       "    }\n",
       "\n",
       "    .dataframe thead th {\n",
       "        text-align: right;\n",
       "    }\n",
       "</style>\n",
       "<table border=\"1\" class=\"dataframe\">\n",
       "  <thead>\n",
       "    <tr style=\"text-align: right;\">\n",
       "      <th></th>\n",
       "      <th>minority</th>\n",
       "      <th>age</th>\n",
       "      <th>gender</th>\n",
       "      <th>credits</th>\n",
       "      <th>beauty</th>\n",
       "      <th>eval</th>\n",
       "      <th>division</th>\n",
       "      <th>native</th>\n",
       "      <th>tenure</th>\n",
       "      <th>students</th>\n",
       "      <th>allstudents</th>\n",
       "      <th>prof</th>\n",
       "      <th>PrimaryLast</th>\n",
       "      <th>vismin</th>\n",
       "      <th>female</th>\n",
       "      <th>single_credit</th>\n",
       "      <th>upper_division</th>\n",
       "      <th>English_speaker</th>\n",
       "      <th>tenured_prof</th>\n",
       "    </tr>\n",
       "  </thead>\n",
       "  <tbody>\n",
       "    <tr>\n",
       "      <th>0</th>\n",
       "      <td>yes</td>\n",
       "      <td>36</td>\n",
       "      <td>female</td>\n",
       "      <td>more</td>\n",
       "      <td>0.289916</td>\n",
       "      <td>4.3</td>\n",
       "      <td>upper</td>\n",
       "      <td>yes</td>\n",
       "      <td>yes</td>\n",
       "      <td>24</td>\n",
       "      <td>43</td>\n",
       "      <td>1</td>\n",
       "      <td>0</td>\n",
       "      <td>1</td>\n",
       "      <td>1</td>\n",
       "      <td>0</td>\n",
       "      <td>1</td>\n",
       "      <td>1</td>\n",
       "      <td>1</td>\n",
       "    </tr>\n",
       "    <tr>\n",
       "      <th>1</th>\n",
       "      <td>yes</td>\n",
       "      <td>36</td>\n",
       "      <td>female</td>\n",
       "      <td>more</td>\n",
       "      <td>0.289916</td>\n",
       "      <td>3.7</td>\n",
       "      <td>upper</td>\n",
       "      <td>yes</td>\n",
       "      <td>yes</td>\n",
       "      <td>86</td>\n",
       "      <td>125</td>\n",
       "      <td>1</td>\n",
       "      <td>0</td>\n",
       "      <td>1</td>\n",
       "      <td>1</td>\n",
       "      <td>0</td>\n",
       "      <td>1</td>\n",
       "      <td>1</td>\n",
       "      <td>1</td>\n",
       "    </tr>\n",
       "    <tr>\n",
       "      <th>2</th>\n",
       "      <td>yes</td>\n",
       "      <td>36</td>\n",
       "      <td>female</td>\n",
       "      <td>more</td>\n",
       "      <td>0.289916</td>\n",
       "      <td>3.6</td>\n",
       "      <td>upper</td>\n",
       "      <td>yes</td>\n",
       "      <td>yes</td>\n",
       "      <td>76</td>\n",
       "      <td>125</td>\n",
       "      <td>1</td>\n",
       "      <td>0</td>\n",
       "      <td>1</td>\n",
       "      <td>1</td>\n",
       "      <td>0</td>\n",
       "      <td>1</td>\n",
       "      <td>1</td>\n",
       "      <td>1</td>\n",
       "    </tr>\n",
       "    <tr>\n",
       "      <th>3</th>\n",
       "      <td>yes</td>\n",
       "      <td>36</td>\n",
       "      <td>female</td>\n",
       "      <td>more</td>\n",
       "      <td>0.289916</td>\n",
       "      <td>4.4</td>\n",
       "      <td>upper</td>\n",
       "      <td>yes</td>\n",
       "      <td>yes</td>\n",
       "      <td>77</td>\n",
       "      <td>123</td>\n",
       "      <td>1</td>\n",
       "      <td>1</td>\n",
       "      <td>1</td>\n",
       "      <td>1</td>\n",
       "      <td>0</td>\n",
       "      <td>1</td>\n",
       "      <td>1</td>\n",
       "      <td>1</td>\n",
       "    </tr>\n",
       "    <tr>\n",
       "      <th>4</th>\n",
       "      <td>no</td>\n",
       "      <td>59</td>\n",
       "      <td>male</td>\n",
       "      <td>more</td>\n",
       "      <td>-0.737732</td>\n",
       "      <td>4.5</td>\n",
       "      <td>upper</td>\n",
       "      <td>yes</td>\n",
       "      <td>yes</td>\n",
       "      <td>17</td>\n",
       "      <td>20</td>\n",
       "      <td>2</td>\n",
       "      <td>0</td>\n",
       "      <td>0</td>\n",
       "      <td>0</td>\n",
       "      <td>0</td>\n",
       "      <td>1</td>\n",
       "      <td>1</td>\n",
       "      <td>1</td>\n",
       "    </tr>\n",
       "  </tbody>\n",
       "</table>\n",
       "</div>"
      ],
      "text/plain": [
       "  minority  age  gender credits    beauty  eval division native tenure  \\\n",
       "0      yes   36  female    more  0.289916   4.3    upper    yes    yes   \n",
       "1      yes   36  female    more  0.289916   3.7    upper    yes    yes   \n",
       "2      yes   36  female    more  0.289916   3.6    upper    yes    yes   \n",
       "3      yes   36  female    more  0.289916   4.4    upper    yes    yes   \n",
       "4       no   59    male    more -0.737732   4.5    upper    yes    yes   \n",
       "\n",
       "   students  allstudents  prof  PrimaryLast  vismin  female  single_credit  \\\n",
       "0        24           43     1            0       1       1              0   \n",
       "1        86          125     1            0       1       1              0   \n",
       "2        76          125     1            0       1       1              0   \n",
       "3        77          123     1            1       1       1              0   \n",
       "4        17           20     2            0       0       0              0   \n",
       "\n",
       "   upper_division  English_speaker  tenured_prof  \n",
       "0               1                1             1  \n",
       "1               1                1             1  \n",
       "2               1                1             1  \n",
       "3               1                1             1  \n",
       "4               1                1             1  "
      ]
     },
     "execution_count": 21,
     "metadata": {},
     "output_type": "execute_result"
    }
   ],
   "source": [
    "# URL of the CSV file from IBM cloud storage\n",
    "url = 'https://cf-courses-data.s3.us.cloud-object-storage.appdomain.cloud/IBMDeveloperSkillsNetwork-ST0151EN-SkillsNetwork/labs/teachingratings.csv'\n",
    "\n",
    "# Load into a DataFrame\n",
    "ratings_df = pd.read_csv(url)\n",
    "ratings_df.head()"
   ]
  },
  {
   "cell_type": "markdown",
   "id": "badf2ce1-8d38-44d3-81a5-2285b5b86668",
   "metadata": {},
   "source": [
    "## Practice Questions\n"
   ]
  },
  {
   "cell_type": "markdown",
   "id": "4828c7ee-1dd1-4ac7-b442-1b13b2c10a06",
   "metadata": {},
   "source": [
    "### Question 1: Using the teachers' rating dataset, what is the probability of receiving an evaluation score greater than 3.3?\n"
   ]
  },
  {
   "cell_type": "code",
   "execution_count": 47,
   "id": "c4fd2182-b2e9-4efe-a23e-fea01014d332",
   "metadata": {},
   "outputs": [
    {
     "name": "stdout",
     "output_type": "stream",
     "text": [
      "The probability of receiving an evaluation score greater than 3.3 is 89.59%\n"
     ]
    }
   ],
   "source": [
    "# Computing for the z-score\n",
    "# z-score = x - mean / sd\n",
    "\n",
    "eval_mean = ratings_df['eval'].mean()\n",
    "eval_sd = ratings_df['eval'].std()\n",
    "x = 3.3\n",
    "z_score = (x - eval_mean) / eval_sd\n",
    "\n",
    "# then compute for the probability of receiving an evaluation score less than 3.3 using cumulative distribution function (cdf)\n",
    "prob_less_x = scipy.stats.norm.cdf(z_score)\n",
    "# then we will subtract the prob_less_x to one to get the probability for greaten than x\n",
    "prob_greater_x = (1 - prob_less_x) * 100\n",
    "\n",
    "print(f'The probability of receiving an evaluation score greater than 3.3 is {prob_greater_x:.2f}%')"
   ]
  },
  {
   "cell_type": "markdown",
   "id": "2fbbfc30-14b9-4a6a-9f49-6fddef24cf1c",
   "metadata": {},
   "source": [
    "### Question 2: Using the teachers' rating dataset, what is the probability of receiving an evaluation score between 2 and 3?\n"
   ]
  },
  {
   "cell_type": "code",
   "execution_count": 56,
   "id": "96d1d176-3e51-4b3f-8132-2c3788224f0f",
   "metadata": {},
   "outputs": [
    {
     "name": "stdout",
     "output_type": "stream",
     "text": [
      "The probability of receiving an evaluation score between 2 and 3 is 3.58%\n"
     ]
    }
   ],
   "source": [
    "eval_mean = ratings_df['eval'].mean()\n",
    "eval_sd = ratings_df['eval'].std()\n",
    "x1 = 2\n",
    "x2 = 3\n",
    "z_score1 = (x1 - eval_mean) / eval_sd\n",
    "z_score2 = (x2 - eval_mean) / eval_sd\n",
    "\n",
    "# First compute the probability of x_1 and x_2\n",
    "prob_x1 = scipy.stats.norm.cdf(z_score1)\n",
    "prob_x2 = scipy.stats.norm.cdf(z_score2)\n",
    "\n",
    "# then we will subtract the prob_less_x to one to get the probability for greaten than x\n",
    "print(f'The probability of receiving an evaluation score between 2 and 3 is {((prob_x2-prob_x1)*100):.2f}%')"
   ]
  },
  {
   "cell_type": "markdown",
   "id": "cd135ba7-8609-4110-81fb-32ded19a8bf6",
   "metadata": {},
   "source": [
    "### Question 3: To test the hypothesis that sleeping for at least 8 hours makes one smarter, 12 people who have slept for at least 8 hours every day  for the past one year  have their IQ tested.\n",
    "\n",
    "*   Here are the results: 116, 111, 101, 120, 99, 94, 106, 115, 107, 101, 110, 92\n",
    "*   Test using the following hypotheses: H0: μ = 100 or Ha: μ > 100\n"
   ]
  },
  {
   "cell_type": "code",
   "execution_count": 89,
   "id": "7b6dd396-8c1b-4f27-b563-6cc93599e2ba",
   "metadata": {},
   "outputs": [
    {
     "name": "stdout",
     "output_type": "stream",
     "text": [
      "The p-value is 0.0093 and it is less than 0.05. We reject the null hypothesis.\n"
     ]
    }
   ],
   "source": [
    "sleep_res = [116, 111, 101, 120, 99, 94, 106, 115, 107, 101, 110, 92]\n",
    "\n",
    "mean_sleep = np.mean(sleep_res)  # Mean of sleep_res\n",
    "std_sleep = np.std(sleep_res, ddof=1)  # Sample standard deviation (use ddof=1)\n",
    "n = len(sleep_res)  # Sample size\n",
    "\n",
    "# Compute Z-score\n",
    "z_score = (mean_sleep - 100) / (std_sleep / sqrt(n))\n",
    "\n",
    "# Compute p-value (two-tailed test)\n",
    "p_value = scipy.stats.norm.sf(abs(z_score))   # Two-tailed test\n",
    "\n",
    "# Decision rule\n",
    "if p_value > 0.05:\n",
    "    print(f\"The p-value is {p_value:.4f} and it is greater than 0.05. We fail to reject the null hypothesis.\")\n",
    "else:\n",
    "    print(f\"The p-value is {p_value:.4f} and it is less than 0.05. We reject the null hypothesis.\")\n",
    "\n"
   ]
  },
  {
   "cell_type": "code",
   "execution_count": null,
   "id": "f35382d1-e3bc-422a-bb94-1d801d80e108",
   "metadata": {},
   "outputs": [],
   "source": []
  }
 ],
 "metadata": {
  "kernelspec": {
   "display_name": "Python 3 (ipykernel)",
   "language": "python",
   "name": "python3"
  },
  "language_info": {
   "codemirror_mode": {
    "name": "ipython",
    "version": 3
   },
   "file_extension": ".py",
   "mimetype": "text/x-python",
   "name": "python",
   "nbconvert_exporter": "python",
   "pygments_lexer": "ipython3",
   "version": "3.12.7"
  }
 },
 "nbformat": 4,
 "nbformat_minor": 5
}
