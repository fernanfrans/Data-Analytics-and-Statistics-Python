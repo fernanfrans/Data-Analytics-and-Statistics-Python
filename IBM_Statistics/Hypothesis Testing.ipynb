{
 "cells": [
  {
   "cell_type": "markdown",
   "id": "9003d338-501f-47de-997b-419391f9ad9d",
   "metadata": {},
   "source": [
    "<center> \n",
    "    \n",
    "# Lab Exercises: Hypothesis Testing\n",
    "</center>"
   ]
  },
  {
   "cell_type": "code",
   "execution_count": 146,
   "id": "ba14be91-74d6-4149-a70a-a09dc3fb004f",
   "metadata": {},
   "outputs": [],
   "source": [
    "# import important libraries\n",
    "\n",
    "import numpy as np \n",
    "import pandas as pd\n",
    "import seaborn as sns\n",
    "import matplotlib.pyplot as plt\n",
    "import scipy.stats"
   ]
  },
  {
   "cell_type": "markdown",
   "id": "27c34c89-1c22-43f7-a030-1c1bd76973e6",
   "metadata": {},
   "source": [
    "## Fetching Data from IBM Cloud Storage"
   ]
  },
  {
   "cell_type": "code",
   "execution_count": 148,
   "id": "2f246c9f-00e7-431f-8446-f8ed73141485",
   "metadata": {},
   "outputs": [
    {
     "data": {
      "text/html": [
       "<div>\n",
       "<style scoped>\n",
       "    .dataframe tbody tr th:only-of-type {\n",
       "        vertical-align: middle;\n",
       "    }\n",
       "\n",
       "    .dataframe tbody tr th {\n",
       "        vertical-align: top;\n",
       "    }\n",
       "\n",
       "    .dataframe thead th {\n",
       "        text-align: right;\n",
       "    }\n",
       "</style>\n",
       "<table border=\"1\" class=\"dataframe\">\n",
       "  <thead>\n",
       "    <tr style=\"text-align: right;\">\n",
       "      <th></th>\n",
       "      <th>minority</th>\n",
       "      <th>age</th>\n",
       "      <th>gender</th>\n",
       "      <th>credits</th>\n",
       "      <th>beauty</th>\n",
       "      <th>eval</th>\n",
       "      <th>division</th>\n",
       "      <th>native</th>\n",
       "      <th>tenure</th>\n",
       "      <th>students</th>\n",
       "      <th>allstudents</th>\n",
       "      <th>prof</th>\n",
       "      <th>PrimaryLast</th>\n",
       "      <th>vismin</th>\n",
       "      <th>female</th>\n",
       "      <th>single_credit</th>\n",
       "      <th>upper_division</th>\n",
       "      <th>English_speaker</th>\n",
       "      <th>tenured_prof</th>\n",
       "    </tr>\n",
       "  </thead>\n",
       "  <tbody>\n",
       "    <tr>\n",
       "      <th>0</th>\n",
       "      <td>yes</td>\n",
       "      <td>36</td>\n",
       "      <td>female</td>\n",
       "      <td>more</td>\n",
       "      <td>0.289916</td>\n",
       "      <td>4.3</td>\n",
       "      <td>upper</td>\n",
       "      <td>yes</td>\n",
       "      <td>yes</td>\n",
       "      <td>24</td>\n",
       "      <td>43</td>\n",
       "      <td>1</td>\n",
       "      <td>0</td>\n",
       "      <td>1</td>\n",
       "      <td>1</td>\n",
       "      <td>0</td>\n",
       "      <td>1</td>\n",
       "      <td>1</td>\n",
       "      <td>1</td>\n",
       "    </tr>\n",
       "    <tr>\n",
       "      <th>1</th>\n",
       "      <td>yes</td>\n",
       "      <td>36</td>\n",
       "      <td>female</td>\n",
       "      <td>more</td>\n",
       "      <td>0.289916</td>\n",
       "      <td>3.7</td>\n",
       "      <td>upper</td>\n",
       "      <td>yes</td>\n",
       "      <td>yes</td>\n",
       "      <td>86</td>\n",
       "      <td>125</td>\n",
       "      <td>1</td>\n",
       "      <td>0</td>\n",
       "      <td>1</td>\n",
       "      <td>1</td>\n",
       "      <td>0</td>\n",
       "      <td>1</td>\n",
       "      <td>1</td>\n",
       "      <td>1</td>\n",
       "    </tr>\n",
       "    <tr>\n",
       "      <th>2</th>\n",
       "      <td>yes</td>\n",
       "      <td>36</td>\n",
       "      <td>female</td>\n",
       "      <td>more</td>\n",
       "      <td>0.289916</td>\n",
       "      <td>3.6</td>\n",
       "      <td>upper</td>\n",
       "      <td>yes</td>\n",
       "      <td>yes</td>\n",
       "      <td>76</td>\n",
       "      <td>125</td>\n",
       "      <td>1</td>\n",
       "      <td>0</td>\n",
       "      <td>1</td>\n",
       "      <td>1</td>\n",
       "      <td>0</td>\n",
       "      <td>1</td>\n",
       "      <td>1</td>\n",
       "      <td>1</td>\n",
       "    </tr>\n",
       "    <tr>\n",
       "      <th>3</th>\n",
       "      <td>yes</td>\n",
       "      <td>36</td>\n",
       "      <td>female</td>\n",
       "      <td>more</td>\n",
       "      <td>0.289916</td>\n",
       "      <td>4.4</td>\n",
       "      <td>upper</td>\n",
       "      <td>yes</td>\n",
       "      <td>yes</td>\n",
       "      <td>77</td>\n",
       "      <td>123</td>\n",
       "      <td>1</td>\n",
       "      <td>1</td>\n",
       "      <td>1</td>\n",
       "      <td>1</td>\n",
       "      <td>0</td>\n",
       "      <td>1</td>\n",
       "      <td>1</td>\n",
       "      <td>1</td>\n",
       "    </tr>\n",
       "    <tr>\n",
       "      <th>4</th>\n",
       "      <td>no</td>\n",
       "      <td>59</td>\n",
       "      <td>male</td>\n",
       "      <td>more</td>\n",
       "      <td>-0.737732</td>\n",
       "      <td>4.5</td>\n",
       "      <td>upper</td>\n",
       "      <td>yes</td>\n",
       "      <td>yes</td>\n",
       "      <td>17</td>\n",
       "      <td>20</td>\n",
       "      <td>2</td>\n",
       "      <td>0</td>\n",
       "      <td>0</td>\n",
       "      <td>0</td>\n",
       "      <td>0</td>\n",
       "      <td>1</td>\n",
       "      <td>1</td>\n",
       "      <td>1</td>\n",
       "    </tr>\n",
       "  </tbody>\n",
       "</table>\n",
       "</div>"
      ],
      "text/plain": [
       "  minority  age  gender credits    beauty  eval division native tenure  \\\n",
       "0      yes   36  female    more  0.289916   4.3    upper    yes    yes   \n",
       "1      yes   36  female    more  0.289916   3.7    upper    yes    yes   \n",
       "2      yes   36  female    more  0.289916   3.6    upper    yes    yes   \n",
       "3      yes   36  female    more  0.289916   4.4    upper    yes    yes   \n",
       "4       no   59    male    more -0.737732   4.5    upper    yes    yes   \n",
       "\n",
       "   students  allstudents  prof  PrimaryLast  vismin  female  single_credit  \\\n",
       "0        24           43     1            0       1       1              0   \n",
       "1        86          125     1            0       1       1              0   \n",
       "2        76          125     1            0       1       1              0   \n",
       "3        77          123     1            1       1       1              0   \n",
       "4        17           20     2            0       0       0              0   \n",
       "\n",
       "   upper_division  English_speaker  tenured_prof  \n",
       "0               1                1             1  \n",
       "1               1                1             1  \n",
       "2               1                1             1  \n",
       "3               1                1             1  \n",
       "4               1                1             1  "
      ]
     },
     "execution_count": 148,
     "metadata": {},
     "output_type": "execute_result"
    }
   ],
   "source": [
    "# URL of the CSV file from IBM cloud storage\n",
    "url = \"https://cf-courses-data.s3.us.cloud-object-storage.appdomain.cloud/IBMDeveloperSkillsNetwork-ST0151EN-SkillsNetwork/labs/teachingratings.csv\"\n",
    "\n",
    "# Load into a DataFrame\n",
    "ratings_df = pd.read_csv(url)\n",
    "ratings_df.head()"
   ]
  },
  {
   "cell_type": "markdown",
   "id": "c651230a-3fc8-4af6-b3c7-db251364cc3a",
   "metadata": {},
   "source": [
    "## Lab Exercises\n",
    "\n"
   ]
  },
  {
   "attachments": {
    "8c534c8f-655f-4cc2-9a85-9c93ca1fa474.png": {
     "image/png": "[encoded data removed]"
    }
   },
   "cell_type": "markdown",
   "id": "d28ef264-2a1a-4d99-9b3f-7d8ca109d3dd",
   "metadata": {},
   "source": [
    "#### T-Test: Using the teachers' rating data set, does gender affect teaching evaluation rates?\n",
    "\n",
    "![image.png](attachment:8c534c8f-655f-4cc2-9a85-9c93ca1fa474.png)"
   ]
  },
  {
   "cell_type": "code",
   "execution_count": 151,
   "id": "2fbcc9a0-2d7a-4a88-91b8-b1e056c5e13d",
   "metadata": {},
   "outputs": [
    {
     "data": {
      "image/png": "[encoded data removed]",
      "text/plain": [
       "<Figure size 500x500 with 1 Axes>"
      ]
     },
     "metadata": {},
     "output_type": "display_data"
    }
   ],
   "source": [
    "# plot the dependent variable in histogram \n",
    "\n",
    "ax = sns.displot(ratings_df['eval'], kde = False, bins=30)"
   ]
  },
  {
   "cell_type": "markdown",
   "id": "bf1d4b89-59b3-4021-9244-4846f782d5d2",
   "metadata": {},
   "source": [
    "We can use the Levene's Test in Python to check test significance"
   ]
  },
  {
   "cell_type": "code",
   "execution_count": 153,
   "id": "b77b3585-939b-493b-b326-f3eebd02ff25",
   "metadata": {},
   "outputs": [
    {
     "data": {
      "text/plain": [
       "LeveneResult(statistic=0.19032922435292574, pvalue=0.6628469836244741)"
      ]
     },
     "execution_count": 153,
     "metadata": {},
     "output_type": "execute_result"
    }
   ],
   "source": [
    "scipy.stats.levene(ratings_df[ratings_df['gender'] == 'female']['eval'], ratings_df[ratings_df['gender'] == 'male']['eval'],\n",
    "                   center = 'mean')\n"
   ]
  },
  {
   "cell_type": "markdown",
   "id": "a5dae643-56ed-4fa1-a092-72a7ab6b633c",
   "metadata": {},
   "source": [
    "Since the p-value is greater than 0.05, we fail to reject the null hypothesis and can assume the equality of variances. It is important to take note of the assumption of equal variances because if the variances are unequal, the results of statistical tests may become unreliable, potentially leading to incorrect conclusions.\n",
    "\n",
    "\n",
    "Next we will use the <code>ttest_ind</code> from the <code>scipy_stats</code> library to test our hypothesis"
   ]
  },
  {
   "cell_type": "code",
   "execution_count": 155,
   "id": "33496555-26ca-406c-a459-44340428b742",
   "metadata": {},
   "outputs": [
    {
     "data": {
      "text/plain": [
       "TtestResult(statistic=-3.249937943510772, pvalue=0.0012387609449522217, df=461.0)"
      ]
     },
     "execution_count": 155,
     "metadata": {},
     "output_type": "execute_result"
    }
   ],
   "source": [
    "scipy.stats.ttest_ind(ratings_df[ratings_df['gender'] == 'female']['eval'],\n",
    "                   ratings_df[ratings_df['gender'] == 'male']['eval'], equal_var = True)"
   ]
  },
  {
   "cell_type": "markdown",
   "id": "c4770c7b-6144-4c97-b92a-ee07e662c6ec",
   "metadata": {},
   "source": [
    "**Conclusion** : Since the p-value is less than alpha value 0.05, we reject the null hypothesis as there is enough proof that there is a statistical difference in teaching evaluations based on gender"
   ]
  },
  {
   "attachments": {
    "53a84f75-ed49-4427-92a5-f59abc351439.png": {
     "image/png": "[encoded data removed]"
    }
   },
   "cell_type": "markdown",
   "id": "564566d8-da2b-4bad-a122-be037ae5059c",
   "metadata": {},
   "source": [
    "### ANOVA: Using the teachers' rating data set, does beauty score for instructors differ by age?\n",
    "\n",
    "![image.png](attachment:53a84f75-ed49-4427-92a5-f59abc351439.png)"
   ]
  },
  {
   "cell_type": "code",
   "execution_count": 158,
   "id": "2897e405-29b4-4ada-93ff-4865d0c58545",
   "metadata": {},
   "outputs": [
    {
     "data": {
      "text/html": [
       "<div>\n",
       "<style scoped>\n",
       "    .dataframe tbody tr th:only-of-type {\n",
       "        vertical-align: middle;\n",
       "    }\n",
       "\n",
       "    .dataframe tbody tr th {\n",
       "        vertical-align: top;\n",
       "    }\n",
       "\n",
       "    .dataframe thead th {\n",
       "        text-align: right;\n",
       "    }\n",
       "</style>\n",
       "<table border=\"1\" class=\"dataframe\">\n",
       "  <thead>\n",
       "    <tr style=\"text-align: right;\">\n",
       "      <th></th>\n",
       "      <th>minority</th>\n",
       "      <th>age</th>\n",
       "      <th>gender</th>\n",
       "      <th>credits</th>\n",
       "      <th>beauty</th>\n",
       "      <th>eval</th>\n",
       "      <th>division</th>\n",
       "      <th>native</th>\n",
       "      <th>tenure</th>\n",
       "      <th>students</th>\n",
       "      <th>allstudents</th>\n",
       "      <th>prof</th>\n",
       "      <th>PrimaryLast</th>\n",
       "      <th>vismin</th>\n",
       "      <th>female</th>\n",
       "      <th>single_credit</th>\n",
       "      <th>upper_division</th>\n",
       "      <th>English_speaker</th>\n",
       "      <th>tenured_prof</th>\n",
       "      <th>age_group</th>\n",
       "    </tr>\n",
       "  </thead>\n",
       "  <tbody>\n",
       "    <tr>\n",
       "      <th>0</th>\n",
       "      <td>yes</td>\n",
       "      <td>36</td>\n",
       "      <td>female</td>\n",
       "      <td>more</td>\n",
       "      <td>0.289916</td>\n",
       "      <td>4.3</td>\n",
       "      <td>upper</td>\n",
       "      <td>yes</td>\n",
       "      <td>yes</td>\n",
       "      <td>24</td>\n",
       "      <td>43</td>\n",
       "      <td>1</td>\n",
       "      <td>0</td>\n",
       "      <td>1</td>\n",
       "      <td>1</td>\n",
       "      <td>0</td>\n",
       "      <td>1</td>\n",
       "      <td>1</td>\n",
       "      <td>1</td>\n",
       "      <td>40 years and younger</td>\n",
       "    </tr>\n",
       "    <tr>\n",
       "      <th>1</th>\n",
       "      <td>yes</td>\n",
       "      <td>36</td>\n",
       "      <td>female</td>\n",
       "      <td>more</td>\n",
       "      <td>0.289916</td>\n",
       "      <td>3.7</td>\n",
       "      <td>upper</td>\n",
       "      <td>yes</td>\n",
       "      <td>yes</td>\n",
       "      <td>86</td>\n",
       "      <td>125</td>\n",
       "      <td>1</td>\n",
       "      <td>0</td>\n",
       "      <td>1</td>\n",
       "      <td>1</td>\n",
       "      <td>0</td>\n",
       "      <td>1</td>\n",
       "      <td>1</td>\n",
       "      <td>1</td>\n",
       "      <td>40 years and younger</td>\n",
       "    </tr>\n",
       "    <tr>\n",
       "      <th>2</th>\n",
       "      <td>yes</td>\n",
       "      <td>36</td>\n",
       "      <td>female</td>\n",
       "      <td>more</td>\n",
       "      <td>0.289916</td>\n",
       "      <td>3.6</td>\n",
       "      <td>upper</td>\n",
       "      <td>yes</td>\n",
       "      <td>yes</td>\n",
       "      <td>76</td>\n",
       "      <td>125</td>\n",
       "      <td>1</td>\n",
       "      <td>0</td>\n",
       "      <td>1</td>\n",
       "      <td>1</td>\n",
       "      <td>0</td>\n",
       "      <td>1</td>\n",
       "      <td>1</td>\n",
       "      <td>1</td>\n",
       "      <td>40 years and younger</td>\n",
       "    </tr>\n",
       "    <tr>\n",
       "      <th>3</th>\n",
       "      <td>yes</td>\n",
       "      <td>36</td>\n",
       "      <td>female</td>\n",
       "      <td>more</td>\n",
       "      <td>0.289916</td>\n",
       "      <td>4.4</td>\n",
       "      <td>upper</td>\n",
       "      <td>yes</td>\n",
       "      <td>yes</td>\n",
       "      <td>77</td>\n",
       "      <td>123</td>\n",
       "      <td>1</td>\n",
       "      <td>1</td>\n",
       "      <td>1</td>\n",
       "      <td>1</td>\n",
       "      <td>0</td>\n",
       "      <td>1</td>\n",
       "      <td>1</td>\n",
       "      <td>1</td>\n",
       "      <td>40 years and younger</td>\n",
       "    </tr>\n",
       "    <tr>\n",
       "      <th>4</th>\n",
       "      <td>no</td>\n",
       "      <td>59</td>\n",
       "      <td>male</td>\n",
       "      <td>more</td>\n",
       "      <td>-0.737732</td>\n",
       "      <td>4.5</td>\n",
       "      <td>upper</td>\n",
       "      <td>yes</td>\n",
       "      <td>yes</td>\n",
       "      <td>17</td>\n",
       "      <td>20</td>\n",
       "      <td>2</td>\n",
       "      <td>0</td>\n",
       "      <td>0</td>\n",
       "      <td>0</td>\n",
       "      <td>0</td>\n",
       "      <td>1</td>\n",
       "      <td>1</td>\n",
       "      <td>1</td>\n",
       "      <td>57 years and older</td>\n",
       "    </tr>\n",
       "  </tbody>\n",
       "</table>\n",
       "</div>"
      ],
      "text/plain": [
       "  minority  age  gender credits    beauty  eval division native tenure  \\\n",
       "0      yes   36  female    more  0.289916   4.3    upper    yes    yes   \n",
       "1      yes   36  female    more  0.289916   3.7    upper    yes    yes   \n",
       "2      yes   36  female    more  0.289916   3.6    upper    yes    yes   \n",
       "3      yes   36  female    more  0.289916   4.4    upper    yes    yes   \n",
       "4       no   59    male    more -0.737732   4.5    upper    yes    yes   \n",
       "\n",
       "   students  allstudents  prof  PrimaryLast  vismin  female  single_credit  \\\n",
       "0        24           43     1            0       1       1              0   \n",
       "1        86          125     1            0       1       1              0   \n",
       "2        76          125     1            0       1       1              0   \n",
       "3        77          123     1            1       1       1              0   \n",
       "4        17           20     2            0       0       0              0   \n",
       "\n",
       "   upper_division  English_speaker  tenured_prof             age_group  \n",
       "0               1                1             1  40 years and younger  \n",
       "1               1                1             1  40 years and younger  \n",
       "2               1                1             1  40 years and younger  \n",
       "3               1                1             1  40 years and younger  \n",
       "4               1                1             1    57 years and older  "
      ]
     },
     "execution_count": 158,
     "metadata": {},
     "output_type": "execute_result"
    }
   ],
   "source": [
    "ratings_df['age_group'] = np.where(ratings_df['age'] <= 40, '40 years and younger',\n",
    "                          np.where((ratings_df['age'] > 40) & (ratings_df['age'] < 57), 'between 40 and 57 years',\n",
    "                          np.where(ratings_df['age'] >= 57, '57 years and older', 'null')))\n",
    "\n",
    "ratings_df.head()"
   ]
  },
  {
   "attachments": {
    "b7d5b4f1-7726-4aa3-a31f-f4ce0780eb1a.png": {
     "image/png": "[encoded data removed]"
    }
   },
   "cell_type": "markdown",
   "id": "187415f6-c2d7-4325-8d9a-b0358376ff5c",
   "metadata": {},
   "source": [
    "![image.png](attachment:b7d5b4f1-7726-4aa3-a31f-f4ce0780eb1a.png)"
   ]
  },
  {
   "cell_type": "code",
   "execution_count": 160,
   "id": "e94f7fdb-3ff4-4458-8201-e65144e2ee97",
   "metadata": {},
   "outputs": [
    {
     "data": {
      "text/plain": [
       "LeveneResult(statistic=8.60005668392584, pvalue=0.000215366180993476)"
      ]
     },
     "execution_count": 160,
     "metadata": {},
     "output_type": "execute_result"
    }
   ],
   "source": [
    "# first test the equality of variance \n",
    "scipy.stats.levene(ratings_df[ratings_df['age_group'] == '40 years and younger']['beauty'],\n",
    "                   ratings_df[ratings_df['age_group'] == 'between 40 and 57 years']['beauty'], \n",
    "                   ratings_df[ratings_df['age_group'] == '57 years and older']['beauty'], \n",
    "                   center='mean')"
   ]
  },
  {
   "cell_type": "markdown",
   "id": "426de02d-c1b4-4caa-af9c-da5bca7768bf",
   "metadata": {},
   "source": [
    "Since the p-value is greater than 0.05, we fail to reject the null hypothesis and can assume the equality of variances."
   ]
  },
  {
   "cell_type": "code",
   "execution_count": 162,
   "id": "e32735a2-9e9d-4a5f-8cd3-016f007d69b2",
   "metadata": {},
   "outputs": [],
   "source": [
    "# First, separate the three samples (one for each job category) into a variable each.\n",
    "forty_lower = ratings_df[ratings_df['age_group'] == '40 years and younger']['beauty']\n",
    "forty_fiftyseven = ratings_df[ratings_df['age_group'] == 'between 40 and 57 years']['beauty']\n",
    "fiftyseven_older = ratings_df[ratings_df['age_group'] == '57 years and older']['beauty']\n"
   ]
  },
  {
   "cell_type": "code",
   "execution_count": 206,
   "id": "14c75b85-b6aa-4944-9358-b921d23f7e8e",
   "metadata": {},
   "outputs": [
    {
     "data": {
      "text/plain": [
       "0      0.289916\n",
       "1      0.289916\n",
       "2      0.289916\n",
       "3      0.289916\n",
       "9     -0.677963\n",
       "         ...   \n",
       "450    1.231394\n",
       "451    1.231394\n",
       "456   -0.848727\n",
       "458    0.933396\n",
       "461    0.643014\n",
       "Name: beauty, Length: 113, dtype: float64"
      ]
     },
     "execution_count": 206,
     "metadata": {},
     "output_type": "execute_result"
    }
   ],
   "source": [
    "forty_lower"
   ]
  },
  {
   "cell_type": "code",
   "execution_count": 163,
   "id": "4370d93f-89f3-4081-ac01-f0595544bd6e",
   "metadata": {},
   "outputs": [
    {
     "name": "stdout",
     "output_type": "stream",
     "text": [
      "F_Statistic: 17.597558611010122, P-Value: 4.3225489816137975e-08\n",
      "Reject H₀: There is a significant evidence that at least one of the means differ.\n"
     ]
    }
   ],
   "source": [
    "# now we will run a one-way ANOVA\n",
    "f_statistic, p_value = scipy.stats.f_oneway(forty_lower, forty_fiftyseven, fiftyseven_older)\n",
    "print(\"F_Statistic: {0}, P-Value: {1}\".format(f_statistic,p_value))\n",
    "if p_value < 0.05:\n",
    "    print(\"Reject H₀: There is a significant evidence that at least one of the means differ.\")\n",
    "else:\n",
    "    print(\"Fail to reject H₀: No significant difference between the groups.\")"
   ]
  },
  {
   "cell_type": "markdown",
   "id": "160aaa78-0066-470f-994b-64aa22af9984",
   "metadata": {},
   "source": [
    "### ANOVA: Using the teachers' rating data set, does teaching evaluation score for instructors differ by age?"
   ]
  },
  {
   "cell_type": "code",
   "execution_count": 165,
   "id": "727b4f6e-f928-43ba-b655-f8018efb9c43",
   "metadata": {},
   "outputs": [
    {
     "data": {
      "text/plain": [
       "LeveneResult(statistic=3.820237661494229, pvalue=0.02262141852021939)"
      ]
     },
     "execution_count": 165,
     "metadata": {},
     "output_type": "execute_result"
    }
   ],
   "source": [
    "# same process with beuaty score for instructors differ by age\n",
    "scipy.stats.levene(ratings_df[ratings_df['age_group'] == '40 years and younger']['eval'],\n",
    "                   ratings_df[ratings_df['age_group'] == 'between 40 and 57 years']['eval'], \n",
    "                   ratings_df[ratings_df['age_group'] == '57 years and older']['eval'], \n",
    "                   center='mean')"
   ]
  },
  {
   "cell_type": "markdown",
   "id": "29786b22-6aa0-426b-bed3-c3757e2d685e",
   "metadata": {},
   "source": [
    "Since the p-value is greater than 0.05, we fail to reject the null hypothesis and can assume the equality of variances."
   ]
  },
  {
   "cell_type": "code",
   "execution_count": 167,
   "id": "2059f375-097a-415e-9aa6-e1a952ce0225",
   "metadata": {},
   "outputs": [
    {
     "name": "stdout",
     "output_type": "stream",
     "text": [
      "F_Statistic: 1.2226327996572206, P-Value: 0.29540894225417536\n",
      "Fail to reject H₀: No significant difference between the groups.\n"
     ]
    }
   ],
   "source": [
    "forty_lower_eval = ratings_df[ratings_df['age_group'] == '40 years and younger']['eval']\n",
    "forty_fiftyseven_eval = ratings_df[ratings_df['age_group'] == 'between 40 and 57 years']['eval']\n",
    "fiftyseven_older_eval = ratings_df[ratings_df['age_group'] == '57 years and older']['eval']\n",
    "\n",
    "f_statistic, p_value = scipy.stats.f_oneway(forty_lower_eval, forty_fiftyseven_eval, fiftyseven_older_eval)\n",
    "print(\"F_Statistic: {0}, P-Value: {1}\".format(f_statistic,p_value))\n",
    "if p_value < 0.05:\n",
    "    print(\"Reject H₀: There is a significant evidence that at least one of the means differ.\")\n",
    "else:\n",
    "    print(\"Fail to reject H₀: No significant difference between the groups.\")"
   ]
  },
  {
   "attachments": {
    "aa6f3dc6-8125-4407-bdd7-cccb21481791.png": {
     "image/png": "[encoded data removed]"
    }
   },
   "cell_type": "markdown",
   "id": "f7200479-c0d7-423e-97fc-6a1053da7d7a",
   "metadata": {},
   "source": [
    "### Chi-square: Using the teachers' rating data set, is there an association between tenure and gender?\n",
    "\n",
    "![image.png](attachment:aa6f3dc6-8125-4407-bdd7-cccb21481791.png)"
   ]
  },
  {
   "cell_type": "markdown",
   "id": "e6757935-983e-4df8-8d2d-d4e401d4b19e",
   "metadata": {},
   "source": [
    "First create a cross-table tab"
   ]
  },
  {
   "cell_type": "code",
   "execution_count": 170,
   "id": "7369cad7-52e4-4f93-80e8-68f63318f876",
   "metadata": {},
   "outputs": [
    {
     "data": {
      "text/html": [
       "<div>\n",
       "<style scoped>\n",
       "    .dataframe tbody tr th:only-of-type {\n",
       "        vertical-align: middle;\n",
       "    }\n",
       "\n",
       "    .dataframe tbody tr th {\n",
       "        vertical-align: top;\n",
       "    }\n",
       "\n",
       "    .dataframe thead th {\n",
       "        text-align: right;\n",
       "    }\n",
       "</style>\n",
       "<table border=\"1\" class=\"dataframe\">\n",
       "  <thead>\n",
       "    <tr style=\"text-align: right;\">\n",
       "      <th>gender</th>\n",
       "      <th>female</th>\n",
       "      <th>male</th>\n",
       "    </tr>\n",
       "    <tr>\n",
       "      <th>tenure</th>\n",
       "      <th></th>\n",
       "      <th></th>\n",
       "    </tr>\n",
       "  </thead>\n",
       "  <tbody>\n",
       "    <tr>\n",
       "      <th>no</th>\n",
       "      <td>50</td>\n",
       "      <td>52</td>\n",
       "    </tr>\n",
       "    <tr>\n",
       "      <th>yes</th>\n",
       "      <td>145</td>\n",
       "      <td>216</td>\n",
       "    </tr>\n",
       "  </tbody>\n",
       "</table>\n",
       "</div>"
      ],
      "text/plain": [
       "gender  female  male\n",
       "tenure              \n",
       "no          50    52\n",
       "yes        145   216"
      ]
     },
     "execution_count": 170,
     "metadata": {},
     "output_type": "execute_result"
    }
   ],
   "source": [
    "cont_table  = pd.crosstab(ratings_df['tenure'], ratings_df['gender'])\n",
    "cont_table"
   ]
  },
  {
   "cell_type": "code",
   "execution_count": 171,
   "id": "6d333d97-46f7-4934-8461-17046368c4b8",
   "metadata": {},
   "outputs": [
    {
     "name": "stdout",
     "output_type": "stream",
     "text": [
      "Fail to reject H₀: No significant evidence that teachers are tenured as a result of gender.\n"
     ]
    }
   ],
   "source": [
    "x, p_value, dof, expected_val = scipy.stats.chi2_contingency(cont_table, correction = True)\n",
    "if p_value < 0.05:\n",
    "    print(\"Reject H₀: There is a significant evidence that at least one of the means differ.\")\n",
    "else:\n",
    "    print(\"Fail to reject H₀: No significant evidence that teachers are tenured as a result of gender.\")"
   ]
  },
  {
   "attachments": {
    "d7dec040-1e04-4315-b184-28f050111f8f.png": {
     "image/png": "[encoded data removed]"
    }
   },
   "cell_type": "markdown",
   "id": "937178d0-743a-49f8-a645-e83931e2cf61",
   "metadata": {},
   "source": [
    "### Correlation: Using the teachers rating dataset, Is teaching evaluation score correlated with beauty score?\n",
    "![image.png](attachment:d7dec040-1e04-4315-b184-28f050111f8f.png)"
   ]
  },
  {
   "cell_type": "code",
   "execution_count": 173,
   "id": "56813ce7-f03a-49f3-95a8-7baf3a97ef66",
   "metadata": {},
   "outputs": [
    {
     "data": {
      "image/png": "[encoded data removed]",
      "text/plain": [
       "<Figure size 640x480 with 1 Axes>"
      ]
     },
     "metadata": {},
     "output_type": "display_data"
    }
   ],
   "source": [
    "ax = sns.scatterplot(x=\"beauty\", y=\"eval\", data=ratings_df)"
   ]
  },
  {
   "cell_type": "code",
   "execution_count": 174,
   "id": "9a51d8c1-de5c-44f9-a94b-16d6a30f4ba4",
   "metadata": {},
   "outputs": [
    {
     "name": "stdout",
     "output_type": "stream",
     "text": [
      "Reject H₀: There is a significant evidence that teaching evaluation score is correlated with beauty score.\n"
     ]
    }
   ],
   "source": [
    "r, p_value = scipy.stats.pearsonr(ratings_df['beauty'], ratings_df['eval'])\n",
    "if p_value < 0.05:\n",
    "    print(\"Reject H₀: There is a significant evidence that teaching evaluation score is correlated with beauty score.\")\n",
    "else:\n",
    "    print(\"Fail to reject H₀: No significant evidence that Teaching evaluation score is correlated with beauty score.\")"
   ]
  },
  {
   "cell_type": "markdown",
   "id": "5e962b32-1b19-49db-8b19-2b4cd03785b2",
   "metadata": {},
   "source": [
    "### Practice Questions"
   ]
  },
  {
   "cell_type": "markdown",
   "id": "883f1b83-32b5-445a-86c9-27043de94b08",
   "metadata": {},
   "source": [
    "### Question 1: Using the teachers rating data set, does tenure affect teaching evaluation scores?\n",
    "Use α = 0.05\n",
    "\n",
    "- Null hypothesis (H_0): Being tenured has no effect on teaching evaluation scores.\n",
    "- Alternative hypothesis (H_1): Being tenured has an effect on teaching evaluation scores."
   ]
  },
  {
   "cell_type": "code",
   "execution_count": 177,
   "id": "b925fe73-6ced-4dc9-be50-f9367c0db246",
   "metadata": {},
   "outputs": [
    {
     "name": "stdout",
     "output_type": "stream",
     "text": [
      "Since the p-value is greater than 0.05, we fail to reject the null hypothesis and can assume the equality of variances.\n"
     ]
    }
   ],
   "source": [
    "# first check the equality of variance\n",
    "stats, p_value = scipy.stats.levene(ratings_df[ratings_df['tenure'] == 'yes']['eval'],\n",
    "                                    ratings_df[ratings_df['tenure'] == 'no']['eval'],\n",
    "                                    center = 'mean')\n",
    "if p_value > 0.05:\n",
    "    print('Since the p-value is greater than 0.05, we fail to reject the null hypothesis and can assume the equality of variances.')\n",
    "else:\n",
    "    print('Since the p-value is less than 0.05, we reject the null hypothesis and can assume that the variance are not equaly.')"
   ]
  },
  {
   "cell_type": "code",
   "execution_count": 204,
   "id": "93ef409f-85a3-4d03-877c-959e671c00ea",
   "metadata": {},
   "outputs": [
    {
     "name": "stdout",
     "output_type": "stream",
     "text": [
      "Since the p-value is less than 0.05, we reject the null hypothesis and can assume there are significant evidence that being tenured affect teaching evaluation scores\n"
     ]
    }
   ],
   "source": [
    "# since the variances are roughly equal. Then we will use t-test to test if does tenure affect teaching evaluation scores.\n",
    "stats, p_value = scipy.stats.ttest_ind(ratings_df[ratings_df['tenure'] == 'yes']['eval'],\n",
    "                   ratings_df[ratings_df['tenure'] == 'no']['eval'], equal_var = True)\n",
    "\n",
    "if p_value > 0.05:\n",
    "    print('Since the p-value is greater than 0.05, we fail to reject the null hypothesis. It means that there are no significant evidence that being tenured affect teaching evaluation scores')\n",
    "else:\n",
    "    print('Since the p-value is less than 0.05, we reject the null hypothesis and can assume there are significant evidence that being tenured affect teaching evaluation scores')\n"
   ]
  },
  {
   "cell_type": "markdown",
   "id": "74185bbc-0a82-4e9a-9516-30f290fefd6f",
   "metadata": {},
   "source": [
    "### Question 2: Using the teachers rating data set, is there an association between age and tenure?\n",
    "- Discretize the age into three groups 40 years and youngers, between 40 and 57 years, 57 years and older (This has already been done for you above.)\n",
    "- What is your conclusion at α = 0.01 and α = 0.05?"
   ]
  },
  {
   "cell_type": "code",
   "execution_count": 215,
   "id": "5c6fd988-1ef2-43ad-9316-755ac3839ef4",
   "metadata": {},
   "outputs": [
    {
     "name": "stdout",
     "output_type": "stream",
     "text": [
      "Chi-square statistic: 8.7496\n",
      "P-value: 0.0126\n"
     ]
    }
   ],
   "source": [
    "# Create contingency table\n",
    "contingency_table = pd.crosstab(ratings_df['age_group'], ratings_df['tenure'])\n",
    "\n",
    "# Perform Chi-Square Test\n",
    "chi2, p, dof, expected = scipy.stats.chi2_contingency(contingency_table, correction = True)\n",
    "\n",
    "# Print results\n",
    "print(f\"Chi-square statistic: {chi2:.4f}\")\n",
    "print(f\"P-value: {p:.4f}\")"
   ]
  },
  {
   "cell_type": "markdown",
   "id": "afc9c408-afd8-405f-922c-af7e9de40026",
   "metadata": {},
   "source": [
    "### Question 3: Test for equality of variance for beauty scores between tenured and non-tenured instructors\n",
    "Use α = 0.05"
   ]
  },
  {
   "cell_type": "code",
   "execution_count": 218,
   "id": "1c2ef101-d7a8-4f17-8d17-becc0dabddc1",
   "metadata": {},
   "outputs": [
    {
     "name": "stdout",
     "output_type": "stream",
     "text": [
      "Since the p-value is greater than 0.05, we fail to reject the null hypothesis and can assume the equality of variances.\n"
     ]
    }
   ],
   "source": [
    "# first check the equality of variance\n",
    "stats, p_value = scipy.stats.levene(ratings_df[ratings_df['tenure'] == 'yes']['beauty'],\n",
    "                                    ratings_df[ratings_df['tenure'] == 'no']['beauty'],\n",
    "                                    center = 'mean')\n",
    "if p_value > 0.05:\n",
    "    print('Since the p-value is greater than 0.05, we fail to reject the null hypothesis and can assume the equality of variances.')\n",
    "else:\n",
    "    print('Since the p-value is less than 0.05, we reject the null hypothesis and can assume that the variance are not equaly.')"
   ]
  },
  {
   "cell_type": "markdown",
   "id": "205eafd9-923d-40f0-bbaa-7c1546dfbbc0",
   "metadata": {},
   "source": [
    "### Question 4: Using the teachers rating data set, is there an association between visible minorities and tenure?\n",
    "Use α = 0.05"
   ]
  },
  {
   "cell_type": "code",
   "execution_count": 220,
   "id": "8eb06e24-4787-44c2-85ac-1c3f2d591862",
   "metadata": {},
   "outputs": [
    {
     "name": "stdout",
     "output_type": "stream",
     "text": [
      "Chi-square statistic: 1.3675\n",
      "P-value: 0.2422\n"
     ]
    }
   ],
   "source": [
    "# Create contingency table\n",
    "contingency_table = pd.crosstab(ratings_df['minority'], ratings_df['tenure'])\n",
    "\n",
    "# Perform Chi-Square Test\n",
    "chi2, p, dof, expected = scipy.stats.chi2_contingency(contingency_table, correction = True)\n",
    "\n",
    "# Print results\n",
    "print(f\"Chi-square statistic: {chi2:.4f}\")\n",
    "print(f\"P-value: {p:.4f}\")"
   ]
  },
  {
   "cell_type": "code",
   "execution_count": null,
   "id": "3ca628e7-dd06-4213-83e6-86608bba3b37",
   "metadata": {},
   "outputs": [],
   "source": [
    "asdfasdffsd"
   ]
  }
 ],
 "metadata": {
  "kernelspec": {
   "display_name": "Python 3 (ipykernel)",
   "language": "python",
   "name": "python3"
  },
  "language_info": {
   "codemirror_mode": {
    "name": "ipython",
    "version": 3
   },
   "file_extension": ".py",
   "mimetype": "text/x-python",
   "name": "python",
   "nbconvert_exporter": "python",
   "pygments_lexer": "ipython3",
   "version": "3.12.7"
  }
 },
 "nbformat": 4,
 "nbformat_minor": 5
}
